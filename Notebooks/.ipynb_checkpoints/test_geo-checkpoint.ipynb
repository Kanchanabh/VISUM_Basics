{
 "cells": [
  {
   "cell_type": "code",
   "execution_count": 1,
   "id": "d029dde7",
   "metadata": {},
   "outputs": [],
   "source": [
    "import geopandas as gpd"
   ]
  },
  {
   "cell_type": "code",
   "execution_count": 2,
   "id": "31955c8f",
   "metadata": {},
   "outputs": [],
   "source": [
    "import networkx as nx"
   ]
  },
  {
   "cell_type": "code",
   "execution_count": 3,
   "id": "4cbb1cc1",
   "metadata": {},
   "outputs": [
    {
     "name": "stdout",
     "output_type": "stream",
     "text": [
      "Requirement already satisfied: networkx in c:\\users\\kanch\\anaconda3\\envs\\geo_env\\lib\\site-packages (2.6.3)\n",
      "Note: you may need to restart the kernel to use updated packages.\n"
     ]
    }
   ],
   "source": [
    "pip install networkx"
   ]
  },
  {
   "cell_type": "code",
   "execution_count": 4,
   "id": "eeedf834",
   "metadata": {},
   "outputs": [],
   "source": [
    "import pandas as pd\n",
    "import numpy as np"
   ]
  },
  {
   "cell_type": "code",
   "execution_count": 5,
   "id": "0468b5dc",
   "metadata": {},
   "outputs": [],
   "source": [
    "roads_link_df=gpd.read_file(\"C:/Users/kanch/Desktop/geo_prj/Shape files/Shape files/Roads_link.SHP\")"
   ]
  },
  {
   "cell_type": "code",
   "execution_count": 6,
   "id": "8bd00c16",
   "metadata": {},
   "outputs": [
    {
     "data": {
      "text/plain": [
       "<AxesSubplot:>"
      ]
     },
     "execution_count": 6,
     "metadata": {},
     "output_type": "execute_result"
    },
    {
     "data": {
      "image/png": "[encoded data removed]",
      "text/plain": [
       "<Figure size 432x288 with 1 Axes>"
      ]
     },
     "metadata": {
      "needs_background": "light"
     },
     "output_type": "display_data"
    }
   ],
   "source": [
    "roads_link_df.plot()"
   ]
  },
  {
   "cell_type": "code",
   "execution_count": 7,
   "id": "cff82e89",
   "metadata": {},
   "outputs": [
    {
     "data": {
      "text/plain": [
       "Index(['NO', 'FROMNODENO', 'TONODENO', 'TYPENO', 'TSYSSET', 'LENGTH',\n",
       "       'NUMLANES', 'CAPPRT', 'V0PRT', 'VOLVEHPR~1', 'VOLPERSP~2', 'VOLPERSW~3',\n",
       "       'R_NO', 'R_FROMNO~4', 'R_TONODENO', 'R_TYPENO', 'R_TSYSSET', 'R_LENGTH',\n",
       "       'R_NUMLANES', 'R_CAPPRT', 'R_V0PRT', 'R_VOLVEH~5', 'R_VOLPER~6',\n",
       "       'R_VOLPER~7', 'geometry'],\n",
       "      dtype='object')"
      ]
     },
     "execution_count": 7,
     "metadata": {},
     "output_type": "execute_result"
    }
   ],
   "source": [
    "roads_link_df.columns\n"
   ]
  },
  {
   "cell_type": "code",
   "execution_count": 8,
   "id": "aae5126c",
   "metadata": {},
   "outputs": [
    {
     "data": {
      "text/html": [
       "<div>\n",
       "<style scoped>\n",
       "    .dataframe tbody tr th:only-of-type {\n",
       "        vertical-align: middle;\n",
       "    }\n",
       "\n",
       "    .dataframe tbody tr th {\n",
       "        vertical-align: top;\n",
       "    }\n",
       "\n",
       "    .dataframe thead th {\n",
       "        text-align: right;\n",
       "    }\n",
       "</style>\n",
       "<table border=\"1\" class=\"dataframe\">\n",
       "  <thead>\n",
       "    <tr style=\"text-align: right;\">\n",
       "      <th></th>\n",
       "      <th>NO</th>\n",
       "      <th>FROMNODENO</th>\n",
       "      <th>TONODENO</th>\n",
       "      <th>TYPENO</th>\n",
       "      <th>TSYSSET</th>\n",
       "      <th>LENGTH</th>\n",
       "      <th>NUMLANES</th>\n",
       "      <th>CAPPRT</th>\n",
       "      <th>V0PRT</th>\n",
       "      <th>VOLVEHPR~1</th>\n",
       "      <th>...</th>\n",
       "      <th>R_TYPENO</th>\n",
       "      <th>R_TSYSSET</th>\n",
       "      <th>R_LENGTH</th>\n",
       "      <th>R_NUMLANES</th>\n",
       "      <th>R_CAPPRT</th>\n",
       "      <th>R_V0PRT</th>\n",
       "      <th>R_VOLVEH~5</th>\n",
       "      <th>R_VOLPER~6</th>\n",
       "      <th>R_VOLPER~7</th>\n",
       "      <th>geometry</th>\n",
       "    </tr>\n",
       "  </thead>\n",
       "  <tbody>\n",
       "    <tr>\n",
       "      <th>0</th>\n",
       "      <td>1</td>\n",
       "      <td>10</td>\n",
       "      <td>11</td>\n",
       "      <td>20</td>\n",
       "      <td>B,C,H</td>\n",
       "      <td>5.000km</td>\n",
       "      <td>1</td>\n",
       "      <td>1200</td>\n",
       "      <td>100km/h</td>\n",
       "      <td>1908</td>\n",
       "      <td>...</td>\n",
       "      <td>20</td>\n",
       "      <td>B,C,H</td>\n",
       "      <td>5.000km</td>\n",
       "      <td>1</td>\n",
       "      <td>1200</td>\n",
       "      <td>100km/h</td>\n",
       "      <td>0</td>\n",
       "      <td>0</td>\n",
       "      <td>0</td>\n",
       "      <td>LINESTRING (50.000 100.000, 75.000 100.000)</td>\n",
       "    </tr>\n",
       "    <tr>\n",
       "      <th>1</th>\n",
       "      <td>2</td>\n",
       "      <td>11</td>\n",
       "      <td>20</td>\n",
       "      <td>20</td>\n",
       "      <td>B,C,H</td>\n",
       "      <td>5.000km</td>\n",
       "      <td>1</td>\n",
       "      <td>1200</td>\n",
       "      <td>100km/h</td>\n",
       "      <td>1157</td>\n",
       "      <td>...</td>\n",
       "      <td>20</td>\n",
       "      <td>B,C,H</td>\n",
       "      <td>5.000km</td>\n",
       "      <td>1</td>\n",
       "      <td>1200</td>\n",
       "      <td>100km/h</td>\n",
       "      <td>0</td>\n",
       "      <td>0</td>\n",
       "      <td>0</td>\n",
       "      <td>LINESTRING (75.000 100.000, 75.000 75.000)</td>\n",
       "    </tr>\n",
       "    <tr>\n",
       "      <th>2</th>\n",
       "      <td>3</td>\n",
       "      <td>20</td>\n",
       "      <td>21</td>\n",
       "      <td>20</td>\n",
       "      <td>B,C,H</td>\n",
       "      <td>5.000km</td>\n",
       "      <td>1</td>\n",
       "      <td>1200</td>\n",
       "      <td>100km/h</td>\n",
       "      <td>1157</td>\n",
       "      <td>...</td>\n",
       "      <td>20</td>\n",
       "      <td>B,C,H</td>\n",
       "      <td>5.000km</td>\n",
       "      <td>1</td>\n",
       "      <td>1200</td>\n",
       "      <td>100km/h</td>\n",
       "      <td>0</td>\n",
       "      <td>0</td>\n",
       "      <td>0</td>\n",
       "      <td>LINESTRING (75.000 75.000, 75.000 50.000)</td>\n",
       "    </tr>\n",
       "    <tr>\n",
       "      <th>3</th>\n",
       "      <td>4</td>\n",
       "      <td>20</td>\n",
       "      <td>40</td>\n",
       "      <td>90</td>\n",
       "      <td>T</td>\n",
       "      <td>10.000km</td>\n",
       "      <td>1</td>\n",
       "      <td>0</td>\n",
       "      <td>0km/h</td>\n",
       "      <td>0</td>\n",
       "      <td>...</td>\n",
       "      <td>90</td>\n",
       "      <td>T</td>\n",
       "      <td>10.000km</td>\n",
       "      <td>1</td>\n",
       "      <td>0</td>\n",
       "      <td>0km/h</td>\n",
       "      <td>0</td>\n",
       "      <td>0</td>\n",
       "      <td>0</td>\n",
       "      <td>LINESTRING (75.000 75.000, 125.000 75.000)</td>\n",
       "    </tr>\n",
       "    <tr>\n",
       "      <th>4</th>\n",
       "      <td>5</td>\n",
       "      <td>21</td>\n",
       "      <td>30</td>\n",
       "      <td>20</td>\n",
       "      <td>B,C,H</td>\n",
       "      <td>5.000km</td>\n",
       "      <td>1</td>\n",
       "      <td>1200</td>\n",
       "      <td>100km/h</td>\n",
       "      <td>1450</td>\n",
       "      <td>...</td>\n",
       "      <td>20</td>\n",
       "      <td>B,C,H</td>\n",
       "      <td>5.000km</td>\n",
       "      <td>1</td>\n",
       "      <td>1200</td>\n",
       "      <td>100km/h</td>\n",
       "      <td>0</td>\n",
       "      <td>0</td>\n",
       "      <td>0</td>\n",
       "      <td>LINESTRING (75.000 50.000, 100.000 50.000)</td>\n",
       "    </tr>\n",
       "  </tbody>\n",
       "</table>\n",
       "<p>5 rows × 25 columns</p>\n",
       "</div>"
      ],
      "text/plain": [
       "   NO  FROMNODENO  TONODENO TYPENO TSYSSET    LENGTH  NUMLANES  CAPPRT  \\\n",
       "0   1          10        11     20   B,C,H   5.000km         1    1200   \n",
       "1   2          11        20     20   B,C,H   5.000km         1    1200   \n",
       "2   3          20        21     20   B,C,H   5.000km         1    1200   \n",
       "3   4          20        40     90       T  10.000km         1       0   \n",
       "4   5          21        30     20   B,C,H   5.000km         1    1200   \n",
       "\n",
       "     V0PRT  VOLVEHPR~1  ...  R_TYPENO  R_TSYSSET  R_LENGTH  R_NUMLANES  \\\n",
       "0  100km/h        1908  ...        20      B,C,H   5.000km           1   \n",
       "1  100km/h        1157  ...        20      B,C,H   5.000km           1   \n",
       "2  100km/h        1157  ...        20      B,C,H   5.000km           1   \n",
       "3    0km/h           0  ...        90          T  10.000km           1   \n",
       "4  100km/h        1450  ...        20      B,C,H   5.000km           1   \n",
       "\n",
       "   R_CAPPRT  R_V0PRT R_VOLVEH~5 R_VOLPER~6  R_VOLPER~7  \\\n",
       "0      1200  100km/h          0          0           0   \n",
       "1      1200  100km/h          0          0           0   \n",
       "2      1200  100km/h          0          0           0   \n",
       "3         0    0km/h          0          0           0   \n",
       "4      1200  100km/h          0          0           0   \n",
       "\n",
       "                                      geometry  \n",
       "0  LINESTRING (50.000 100.000, 75.000 100.000)  \n",
       "1   LINESTRING (75.000 100.000, 75.000 75.000)  \n",
       "2    LINESTRING (75.000 75.000, 75.000 50.000)  \n",
       "3   LINESTRING (75.000 75.000, 125.000 75.000)  \n",
       "4   LINESTRING (75.000 50.000, 100.000 50.000)  \n",
       "\n",
       "[5 rows x 25 columns]"
      ]
     },
     "execution_count": 8,
     "metadata": {},
     "output_type": "execute_result"
    }
   ],
   "source": [
    "roads_link_df.head()"
   ]
  },
  {
   "cell_type": "code",
   "execution_count": 9,
   "id": "a36a28e6",
   "metadata": {},
   "outputs": [],
   "source": [
    "roads_node_df=gpd.read_file(\"C:/Users/kanch/Desktop/geo_prj/Shape files/Shape files/Roads_node.SHP\")"
   ]
  },
  {
   "cell_type": "code",
   "execution_count": 10,
   "id": "71a40731",
   "metadata": {},
   "outputs": [
    {
     "data": {
      "text/plain": [
       "<AxesSubplot:>"
      ]
     },
     "execution_count": 10,
     "metadata": {},
     "output_type": "execute_result"
    },
    {
     "data": {
      "image/png": "[encoded data removed]",
      "text/plain": [
       "<Figure size 432x288 with 1 Axes>"
      ]
     },
     "metadata": {
      "needs_background": "light"
     },
     "output_type": "display_data"
    }
   ],
   "source": [
    "roads_node_df.plot()"
   ]
  },
  {
   "cell_type": "code",
   "execution_count": 11,
   "id": "e9e78dab",
   "metadata": {},
   "outputs": [
    {
     "data": {
      "text/html": [
       "<div>\n",
       "<style scoped>\n",
       "    .dataframe tbody tr th:only-of-type {\n",
       "        vertical-align: middle;\n",
       "    }\n",
       "\n",
       "    .dataframe tbody tr th {\n",
       "        vertical-align: top;\n",
       "    }\n",
       "\n",
       "    .dataframe thead th {\n",
       "        text-align: right;\n",
       "    }\n",
       "</style>\n",
       "<table border=\"1\" class=\"dataframe\">\n",
       "  <thead>\n",
       "    <tr style=\"text-align: right;\">\n",
       "      <th></th>\n",
       "      <th>NO</th>\n",
       "      <th>CODE</th>\n",
       "      <th>NAME</th>\n",
       "      <th>TYPENO</th>\n",
       "      <th>CONTROLT~1</th>\n",
       "      <th>XCOORD</th>\n",
       "      <th>YCOORD</th>\n",
       "      <th>T0PRT</th>\n",
       "      <th>VOLPRT</th>\n",
       "      <th>SCTYPE</th>\n",
       "      <th>geometry</th>\n",
       "    </tr>\n",
       "  </thead>\n",
       "  <tbody>\n",
       "    <tr>\n",
       "      <th>0</th>\n",
       "      <td>10</td>\n",
       "      <td>A-VILLAGE</td>\n",
       "      <td>A-Village</td>\n",
       "      <td>1</td>\n",
       "      <td>0</td>\n",
       "      <td>50.0</td>\n",
       "      <td>100.0</td>\n",
       "      <td>0min</td>\n",
       "      <td>0</td>\n",
       "      <td>None</td>\n",
       "      <td>POINT (50.000 100.000)</td>\n",
       "    </tr>\n",
       "    <tr>\n",
       "      <th>1</th>\n",
       "      <td>11</td>\n",
       "      <td>None</td>\n",
       "      <td>None</td>\n",
       "      <td>10</td>\n",
       "      <td>0</td>\n",
       "      <td>75.0</td>\n",
       "      <td>100.0</td>\n",
       "      <td>0min</td>\n",
       "      <td>1908</td>\n",
       "      <td>None</td>\n",
       "      <td>POINT (75.000 100.000)</td>\n",
       "    </tr>\n",
       "    <tr>\n",
       "      <th>2</th>\n",
       "      <td>12</td>\n",
       "      <td>None</td>\n",
       "      <td>None</td>\n",
       "      <td>0</td>\n",
       "      <td>0</td>\n",
       "      <td>50.0</td>\n",
       "      <td>50.0</td>\n",
       "      <td>0min</td>\n",
       "      <td>292</td>\n",
       "      <td>None</td>\n",
       "      <td>POINT (50.000 50.000)</td>\n",
       "    </tr>\n",
       "    <tr>\n",
       "      <th>3</th>\n",
       "      <td>20</td>\n",
       "      <td>STA</td>\n",
       "      <td>Station</td>\n",
       "      <td>1</td>\n",
       "      <td>0</td>\n",
       "      <td>75.0</td>\n",
       "      <td>75.0</td>\n",
       "      <td>0min</td>\n",
       "      <td>1157</td>\n",
       "      <td>None</td>\n",
       "      <td>POINT (75.000 75.000)</td>\n",
       "    </tr>\n",
       "    <tr>\n",
       "      <th>4</th>\n",
       "      <td>21</td>\n",
       "      <td>None</td>\n",
       "      <td>None</td>\n",
       "      <td>10</td>\n",
       "      <td>0</td>\n",
       "      <td>75.0</td>\n",
       "      <td>50.0</td>\n",
       "      <td>0min</td>\n",
       "      <td>1450</td>\n",
       "      <td>None</td>\n",
       "      <td>POINT (75.000 50.000)</td>\n",
       "    </tr>\n",
       "  </tbody>\n",
       "</table>\n",
       "</div>"
      ],
      "text/plain": [
       "   NO       CODE       NAME TYPENO CONTROLT~1  XCOORD  YCOORD T0PRT  VOLPRT  \\\n",
       "0  10  A-VILLAGE  A-Village      1          0    50.0   100.0  0min       0   \n",
       "1  11       None       None     10          0    75.0   100.0  0min    1908   \n",
       "2  12       None       None      0          0    50.0    50.0  0min     292   \n",
       "3  20        STA    Station      1          0    75.0    75.0  0min    1157   \n",
       "4  21       None       None     10          0    75.0    50.0  0min    1450   \n",
       "\n",
       "  SCTYPE                geometry  \n",
       "0   None  POINT (50.000 100.000)  \n",
       "1   None  POINT (75.000 100.000)  \n",
       "2   None   POINT (50.000 50.000)  \n",
       "3   None   POINT (75.000 75.000)  \n",
       "4   None   POINT (75.000 50.000)  "
      ]
     },
     "execution_count": 11,
     "metadata": {},
     "output_type": "execute_result"
    }
   ],
   "source": [
    "roads_node_df.head(5)"
   ]
  },
  {
   "cell_type": "code",
   "execution_count": 12,
   "id": "96e8cfdf",
   "metadata": {},
   "outputs": [
    {
     "name": "stdout",
     "output_type": "stream",
     "text": [
      "Graph with 9 nodes and 11 edges\n"
     ]
    }
   ],
   "source": [
    "roadnetwork = nx.Graph()\n",
    "roadnetwork.add_nodes_from(list(roads_node_df[\"NO\"]))\n",
    "for sno,road_link in roads_link_df.iterrows():\n",
    "    roadlinkdict = dict(road_link)\n",
    "    roadnetwork.add_edge(*(roadlinkdict[\"FROMNODENO\"],roadlinkdict[\"TONODENO\"]))\n",
    "print(roadnetwork)"
   ]
  },
  {
   "cell_type": "code",
   "execution_count": 13,
   "id": "c5b0698c",
   "metadata": {},
   "outputs": [],
   "source": [
    "#print([path for path in nx.all_simple_paths(roadnetwork,10,11,3v )])"
   ]
  },
  {
   "cell_type": "code",
   "execution_count": 14,
   "id": "6911f806",
   "metadata": {},
   "outputs": [
    {
     "name": "stdout",
     "output_type": "stream",
     "text": [
      "    NO  FROMNODENO  TONODENO TYPENO    TSYSSET    LENGTH  NUMLANES  CAPPRT  \\\n",
      "0    1          10        11     20      B,C,H   5.000km         1    1200   \n",
      "1    2          11        20     20      B,C,H   5.000km         1    1200   \n",
      "2    3          20        21     20      B,C,H   5.000km         1    1200   \n",
      "3    4          20        40     90          T  10.000km         1       0   \n",
      "4    5          21        30     20      B,C,H   5.000km         1    1200   \n",
      "5    6          30        31     20      B,C,H   5.000km         1    1200   \n",
      "6    7          31        40     20      B,C,H   5.000km         1    1200   \n",
      "7    8          11        41     30      B,C,H  16.000km         1     800   \n",
      "8    9          40        41     30      B,C,H   5.000km         1     800   \n",
      "9   10          10        12     40  B,C,H,T,W  10.000km         1     500   \n",
      "10  11          12        21     40  B,C,H,T,W   5.000km         1     500   \n",
      "\n",
      "      V0PRT  VOLVEHPR~1  ...  R_TSYSSET  R_LENGTH  R_NUMLANES  R_CAPPRT  \\\n",
      "0   100km/h        1908  ...      B,C,H   5.000km           1      1200   \n",
      "1   100km/h        1157  ...      B,C,H   5.000km           1      1200   \n",
      "2   100km/h        1157  ...      B,C,H   5.000km           1      1200   \n",
      "3     0km/h           0  ...          T  10.000km           1         0   \n",
      "4   100km/h        1450  ...      B,C,H   5.000km           1      1200   \n",
      "5   100km/h        1450  ...      B,C,H   5.000km           1      1200   \n",
      "6   100km/h        1450  ...      B,C,H   5.000km           1      1200   \n",
      "7    80km/h         750  ...      B,C,H  16.000km           1       800   \n",
      "8    80km/h           0  ...      B,C,H   5.000km           1       800   \n",
      "9    60km/h         292  ...  B,C,H,T,W  10.000km           1       500   \n",
      "10   60km/h         292  ...  B,C,H,T,W   5.000km           1       500   \n",
      "\n",
      "    R_V0PRT R_VOLVEH~5 R_VOLPER~6 R_VOLPER~7  \\\n",
      "0   100km/h          0          0          0   \n",
      "1   100km/h          0          0          0   \n",
      "2   100km/h          0          0          0   \n",
      "3     0km/h          0          0          0   \n",
      "4   100km/h          0          0          0   \n",
      "5   100km/h          0          0          0   \n",
      "6   100km/h          0          0          0   \n",
      "7    80km/h          0          0          0   \n",
      "8    80km/h        750          0          0   \n",
      "9    60km/h          0          0          0   \n",
      "10   60km/h          0          0          0   \n",
      "\n",
      "                                        geometry  newdistance  \n",
      "0    LINESTRING (50.000 100.000, 75.000 100.000)    50.468345  \n",
      "1     LINESTRING (75.000 100.000, 75.000 75.000)     5.439766  \n",
      "2      LINESTRING (75.000 75.000, 75.000 50.000)   272.694895  \n",
      "3     LINESTRING (75.000 75.000, 125.000 75.000)    34.608696  \n",
      "4     LINESTRING (75.000 50.000, 100.000 50.000)   252.532106  \n",
      "5    LINESTRING (100.000 50.000, 125.000 50.000)   229.040355  \n",
      "6    LINESTRING (125.000 50.000, 125.000 75.000)   298.708265  \n",
      "7   LINESTRING (75.000 100.000, 125.000 100.000)    30.724564  \n",
      "8   LINESTRING (125.000 75.000, 125.000 100.000)     2.488376  \n",
      "9     LINESTRING (50.000 100.000, 50.000 50.000)   237.250256  \n",
      "10     LINESTRING (50.000 50.000, 75.000 50.000)   104.646534  \n",
      "\n",
      "[11 rows x 26 columns]\n"
     ]
    }
   ],
   "source": [
    "import numpy as np \n",
    "def randomdist(x):\n",
    "    #return float(x.split(\"km\")[0]) + np.random.uniform(-1,1)\n",
    "    return np.random.random()*np.random.randint(30,500)\n",
    "roads_link_df[\"newdistance\"] = roads_link_df[\"LENGTH\"].apply(randomdist)\n",
    "#roads_link_df[(roads_link_df[\"FROMNODENO\"]==10)&(roads_link_df[\"TONODENO\"]==11)][\"newdistance\"] = 2000. \n",
    "print(roads_link_df)"
   ]
  },
  {
   "cell_type": "code",
   "execution_count": 15,
   "id": "fe862616",
   "metadata": {},
   "outputs": [
    {
     "data": {
      "text/html": [
       "<div>\n",
       "<style scoped>\n",
       "    .dataframe tbody tr th:only-of-type {\n",
       "        vertical-align: middle;\n",
       "    }\n",
       "\n",
       "    .dataframe tbody tr th {\n",
       "        vertical-align: top;\n",
       "    }\n",
       "\n",
       "    .dataframe thead th {\n",
       "        text-align: right;\n",
       "    }\n",
       "</style>\n",
       "<table border=\"1\" class=\"dataframe\">\n",
       "  <thead>\n",
       "    <tr style=\"text-align: right;\">\n",
       "      <th></th>\n",
       "      <th>NO</th>\n",
       "      <th>FROMNODENO</th>\n",
       "      <th>TONODENO</th>\n",
       "      <th>TYPENO</th>\n",
       "      <th>TSYSSET</th>\n",
       "      <th>LENGTH</th>\n",
       "      <th>NUMLANES</th>\n",
       "      <th>CAPPRT</th>\n",
       "      <th>V0PRT</th>\n",
       "      <th>VOLVEHPR~1</th>\n",
       "      <th>...</th>\n",
       "      <th>R_TSYSSET</th>\n",
       "      <th>R_LENGTH</th>\n",
       "      <th>R_NUMLANES</th>\n",
       "      <th>R_CAPPRT</th>\n",
       "      <th>R_V0PRT</th>\n",
       "      <th>R_VOLVEH~5</th>\n",
       "      <th>R_VOLPER~6</th>\n",
       "      <th>R_VOLPER~7</th>\n",
       "      <th>geometry</th>\n",
       "      <th>newdistance</th>\n",
       "    </tr>\n",
       "  </thead>\n",
       "  <tbody>\n",
       "    <tr>\n",
       "      <th>0</th>\n",
       "      <td>1</td>\n",
       "      <td>10</td>\n",
       "      <td>11</td>\n",
       "      <td>20</td>\n",
       "      <td>B,C,H</td>\n",
       "      <td>5.000km</td>\n",
       "      <td>1</td>\n",
       "      <td>1200</td>\n",
       "      <td>100km/h</td>\n",
       "      <td>1908</td>\n",
       "      <td>...</td>\n",
       "      <td>B,C,H</td>\n",
       "      <td>5.000km</td>\n",
       "      <td>1</td>\n",
       "      <td>1200</td>\n",
       "      <td>100km/h</td>\n",
       "      <td>0</td>\n",
       "      <td>0</td>\n",
       "      <td>0</td>\n",
       "      <td>LINESTRING (50.000 100.000, 75.000 100.000)</td>\n",
       "      <td>50.468345</td>\n",
       "    </tr>\n",
       "    <tr>\n",
       "      <th>1</th>\n",
       "      <td>2</td>\n",
       "      <td>11</td>\n",
       "      <td>20</td>\n",
       "      <td>20</td>\n",
       "      <td>B,C,H</td>\n",
       "      <td>5.000km</td>\n",
       "      <td>1</td>\n",
       "      <td>1200</td>\n",
       "      <td>100km/h</td>\n",
       "      <td>1157</td>\n",
       "      <td>...</td>\n",
       "      <td>B,C,H</td>\n",
       "      <td>5.000km</td>\n",
       "      <td>1</td>\n",
       "      <td>1200</td>\n",
       "      <td>100km/h</td>\n",
       "      <td>0</td>\n",
       "      <td>0</td>\n",
       "      <td>0</td>\n",
       "      <td>LINESTRING (75.000 100.000, 75.000 75.000)</td>\n",
       "      <td>5.439766</td>\n",
       "    </tr>\n",
       "    <tr>\n",
       "      <th>2</th>\n",
       "      <td>3</td>\n",
       "      <td>20</td>\n",
       "      <td>21</td>\n",
       "      <td>20</td>\n",
       "      <td>B,C,H</td>\n",
       "      <td>5.000km</td>\n",
       "      <td>1</td>\n",
       "      <td>1200</td>\n",
       "      <td>100km/h</td>\n",
       "      <td>1157</td>\n",
       "      <td>...</td>\n",
       "      <td>B,C,H</td>\n",
       "      <td>5.000km</td>\n",
       "      <td>1</td>\n",
       "      <td>1200</td>\n",
       "      <td>100km/h</td>\n",
       "      <td>0</td>\n",
       "      <td>0</td>\n",
       "      <td>0</td>\n",
       "      <td>LINESTRING (75.000 75.000, 75.000 50.000)</td>\n",
       "      <td>272.694895</td>\n",
       "    </tr>\n",
       "    <tr>\n",
       "      <th>3</th>\n",
       "      <td>4</td>\n",
       "      <td>20</td>\n",
       "      <td>40</td>\n",
       "      <td>90</td>\n",
       "      <td>T</td>\n",
       "      <td>10.000km</td>\n",
       "      <td>1</td>\n",
       "      <td>0</td>\n",
       "      <td>0km/h</td>\n",
       "      <td>0</td>\n",
       "      <td>...</td>\n",
       "      <td>T</td>\n",
       "      <td>10.000km</td>\n",
       "      <td>1</td>\n",
       "      <td>0</td>\n",
       "      <td>0km/h</td>\n",
       "      <td>0</td>\n",
       "      <td>0</td>\n",
       "      <td>0</td>\n",
       "      <td>LINESTRING (75.000 75.000, 125.000 75.000)</td>\n",
       "      <td>34.608696</td>\n",
       "    </tr>\n",
       "    <tr>\n",
       "      <th>4</th>\n",
       "      <td>5</td>\n",
       "      <td>21</td>\n",
       "      <td>30</td>\n",
       "      <td>20</td>\n",
       "      <td>B,C,H</td>\n",
       "      <td>5.000km</td>\n",
       "      <td>1</td>\n",
       "      <td>1200</td>\n",
       "      <td>100km/h</td>\n",
       "      <td>1450</td>\n",
       "      <td>...</td>\n",
       "      <td>B,C,H</td>\n",
       "      <td>5.000km</td>\n",
       "      <td>1</td>\n",
       "      <td>1200</td>\n",
       "      <td>100km/h</td>\n",
       "      <td>0</td>\n",
       "      <td>0</td>\n",
       "      <td>0</td>\n",
       "      <td>LINESTRING (75.000 50.000, 100.000 50.000)</td>\n",
       "      <td>252.532106</td>\n",
       "    </tr>\n",
       "  </tbody>\n",
       "</table>\n",
       "<p>5 rows × 26 columns</p>\n",
       "</div>"
      ],
      "text/plain": [
       "   NO  FROMNODENO  TONODENO TYPENO TSYSSET    LENGTH  NUMLANES  CAPPRT  \\\n",
       "0   1          10        11     20   B,C,H   5.000km         1    1200   \n",
       "1   2          11        20     20   B,C,H   5.000km         1    1200   \n",
       "2   3          20        21     20   B,C,H   5.000km         1    1200   \n",
       "3   4          20        40     90       T  10.000km         1       0   \n",
       "4   5          21        30     20   B,C,H   5.000km         1    1200   \n",
       "\n",
       "     V0PRT  VOLVEHPR~1  ...  R_TSYSSET  R_LENGTH  R_NUMLANES  R_CAPPRT  \\\n",
       "0  100km/h        1908  ...      B,C,H   5.000km           1      1200   \n",
       "1  100km/h        1157  ...      B,C,H   5.000km           1      1200   \n",
       "2  100km/h        1157  ...      B,C,H   5.000km           1      1200   \n",
       "3    0km/h           0  ...          T  10.000km           1         0   \n",
       "4  100km/h        1450  ...      B,C,H   5.000km           1      1200   \n",
       "\n",
       "   R_V0PRT R_VOLVEH~5 R_VOLPER~6 R_VOLPER~7  \\\n",
       "0  100km/h          0          0          0   \n",
       "1  100km/h          0          0          0   \n",
       "2  100km/h          0          0          0   \n",
       "3    0km/h          0          0          0   \n",
       "4  100km/h          0          0          0   \n",
       "\n",
       "                                      geometry  newdistance  \n",
       "0  LINESTRING (50.000 100.000, 75.000 100.000)    50.468345  \n",
       "1   LINESTRING (75.000 100.000, 75.000 75.000)     5.439766  \n",
       "2    LINESTRING (75.000 75.000, 75.000 50.000)   272.694895  \n",
       "3   LINESTRING (75.000 75.000, 125.000 75.000)    34.608696  \n",
       "4   LINESTRING (75.000 50.000, 100.000 50.000)   252.532106  \n",
       "\n",
       "[5 rows x 26 columns]"
      ]
     },
     "execution_count": 15,
     "metadata": {},
     "output_type": "execute_result"
    }
   ],
   "source": [
    "roads_link_df.head()"
   ]
  },
  {
   "cell_type": "code",
   "execution_count": 16,
   "id": "44b363ad",
   "metadata": {},
   "outputs": [],
   "source": [
    "distance_net=nx.Graph()\n",
    "roadnetwork.add_nodes_from(list(roads_node_df[\"NO\"]))"
   ]
  },
  {
   "cell_type": "code",
   "execution_count": 17,
   "id": "e84c6ccd",
   "metadata": {},
   "outputs": [
    {
     "name": "stdout",
     "output_type": "stream",
     "text": [
      "Graph with 9 nodes and 11 edges\n"
     ]
    }
   ],
   "source": [
    "roadnetwork.add_nodes_from(list(roads_node_df[\"NO\"]))\n",
    "for sno,road_link in roads_link_df.iterrows():\n",
    "    roadlinkdict = dict(road_link)\n",
    "    roadnetwork.add_edge(roadlinkdict[\"FROMNODENO\"],roadlinkdict[\"TONODENO\"],length=roadlinkdict[\"newdistance\"])\n",
    "print(roadnetwork)"
   ]
  },
  {
   "cell_type": "code",
   "execution_count": 18,
   "id": "a8f041e9",
   "metadata": {},
   "outputs": [],
   "source": [
    "length=roadlinkdict[\"newdistance\"]"
   ]
  },
  {
   "cell_type": "code",
   "execution_count": 19,
   "id": "264778a3",
   "metadata": {},
   "outputs": [
    {
     "data": {
      "text/plain": [
       "104.64653374173294"
      ]
     },
     "execution_count": 19,
     "metadata": {},
     "output_type": "execute_result"
    }
   ],
   "source": [
    "length"
   ]
  },
  {
   "cell_type": "code",
   "execution_count": 20,
   "id": "76d02315",
   "metadata": {},
   "outputs": [
    {
     "data": {
      "text/plain": [
       "{'NO': 11,\n",
       " 'FROMNODENO': 12,\n",
       " 'TONODENO': 21,\n",
       " 'TYPENO': '40',\n",
       " 'TSYSSET': 'B,C,H,T,W',\n",
       " 'LENGTH': '5.000km',\n",
       " 'NUMLANES': 1,\n",
       " 'CAPPRT': 500,\n",
       " 'V0PRT': '60km/h',\n",
       " 'VOLVEHPR~1': 292,\n",
       " 'VOLPERSP~2': 0,\n",
       " 'VOLPERSW~3': 0,\n",
       " 'R_NO': 11,\n",
       " 'R_FROMNO~4': 21,\n",
       " 'R_TONODENO': 12,\n",
       " 'R_TYPENO': '40',\n",
       " 'R_TSYSSET': 'B,C,H,T,W',\n",
       " 'R_LENGTH': '5.000km',\n",
       " 'R_NUMLANES': 1,\n",
       " 'R_CAPPRT': 500,\n",
       " 'R_V0PRT': '60km/h',\n",
       " 'R_VOLVEH~5': 0,\n",
       " 'R_VOLPER~6': 0,\n",
       " 'R_VOLPER~7': 0,\n",
       " 'geometry': <shapely.geometry.linestring.LineString at 0x26db7aaf6a0>,\n",
       " 'newdistance': 104.64653374173294}"
      ]
     },
     "execution_count": 20,
     "metadata": {},
     "output_type": "execute_result"
    }
   ],
   "source": [
    "roadlinkdict"
   ]
  },
  {
   "cell_type": "code",
   "execution_count": 21,
   "id": "fcf94bb3",
   "metadata": {},
   "outputs": [
    {
     "data": {
      "text/plain": [
       "5.4397659783858066"
      ]
     },
     "execution_count": 21,
     "metadata": {},
     "output_type": "execute_result"
    }
   ],
   "source": [
    "nx.shortest_path_length(roadnetwork,11,20, weight='length')"
   ]
  },
  {
   "cell_type": "code",
   "execution_count": 22,
   "id": "b00de1f6",
   "metadata": {},
   "outputs": [
    {
     "name": "stdout",
     "output_type": "stream",
     "text": [
      "[10, 11]\n",
      "[10, 12, 21, 20, 11]\n",
      "[10, 12, 21, 20, 40, 41, 11]\n",
      "[10, 12, 21, 30, 31, 40, 20, 11]\n",
      "[10, 12, 21, 30, 31, 40, 41, 11]\n"
     ]
    }
   ],
   "source": [
    "for path in nx.all_simple_paths(roadnetwork, source=10, target=11):\n",
    "    print(path)"
   ]
  },
  {
   "cell_type": "code",
   "execution_count": 23,
   "id": "967fa480",
   "metadata": {},
   "outputs": [
    {
     "name": "stdout",
     "output_type": "stream",
     "text": [
      "[10, 11]\n"
     ]
    }
   ],
   "source": [
    "print(nx.astar_path(roadnetwork, 10, 11))"
   ]
  },
  {
   "cell_type": "code",
   "execution_count": 24,
   "id": "554d0852",
   "metadata": {},
   "outputs": [
    {
     "name": "stdout",
     "output_type": "stream",
     "text": [
      "1\n"
     ]
    }
   ],
   "source": [
    "print('1')"
   ]
  },
  {
   "cell_type": "code",
   "execution_count": null,
   "id": "af6c88fa",
   "metadata": {},
   "outputs": [],
   "source": []
  }
 ],
 "metadata": {
  "kernelspec": {
   "display_name": "geo_env",
   "language": "python",
   "name": "geo_env"
  },
  "language_info": {
   "codemirror_mode": {
    "name": "ipython",
    "version": 3
   },
   "file_extension": ".py",
   "mimetype": "text/x-python",
   "name": "python",
   "nbconvert_exporter": "python",
   "pygments_lexer": "ipython3",
   "version": "3.9.7"
  }
 },
 "nbformat": 4,
 "nbformat_minor": 5
}
